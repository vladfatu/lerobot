{
 "cells": [
  {
   "cell_type": "markdown",
   "id": "6b5b8954",
   "metadata": {},
   "source": [
    "# Lekiwi"
   ]
  },
  {
   "cell_type": "markdown",
   "id": "31e31722",
   "metadata": {},
   "source": [
    "## Calibration"
   ]
  },
  {
   "cell_type": "code",
   "execution_count": null,
   "id": "51eceb7e",
   "metadata": {},
   "outputs": [],
   "source": [
    "!poetry run python -m lerobot.calibrate \\\n",
    "    --teleop.type=so100_leader \\\n",
    "    --teleop.port=/dev/tty.usbmodem5A460849101 \\ \n",
    "    --teleop.id=leader_s101"
   ]
  },
  {
   "cell_type": "code",
   "execution_count": null,
   "id": "1863151f",
   "metadata": {},
   "outputs": [],
   "source": [
    "from lerobot.common.robots.lekiwi import LeKiwi, LeKiwiConfig"
   ]
  },
  {
   "cell_type": "code",
   "execution_count": null,
   "id": "bea1715f",
   "metadata": {},
   "outputs": [],
   "source": [
    "print(\"Configuring LeKiwi\")\n",
    "robot_config = LeKiwiConfig()\n",
    "robot = LeKiwi(robot_config)\n",
    "\n",
    "print(\"Connecting LeKiwi\")\n",
    "robot.connect()"
   ]
  },
  {
   "cell_type": "code",
   "execution_count": null,
   "id": "66214fd3",
   "metadata": {},
   "outputs": [],
   "source": [
    "robot.search_for_object('fork')"
   ]
  },
  {
   "cell_type": "code",
   "execution_count": null,
   "id": "5a63a951",
   "metadata": {},
   "outputs": [],
   "source": [
    "arm_action = {'arm_shoulder_pan.pos': -5.0, 'arm_shoulder_lift.pos': -98.92428630533719, 'arm_elbow_flex.pos': 99.27895448400182, 'arm_wrist_flex.pos': 19.973137973137966, 'arm_wrist_roll.pos': -0.31746031746031633, 'arm_gripper.pos': 0.867244829886591}\n",
    "\n",
    "base_action = {'x.vel': 0.0, 'y.vel': 0.0, 'theta.vel': -10.0}\n",
    "\n",
    "robot.send_action(arm_action | base_action)"
   ]
  },
  {
   "cell_type": "code",
   "execution_count": null,
   "id": "35f6f01c",
   "metadata": {},
   "outputs": [],
   "source": [
    "robot.stop_base()"
   ]
  },
  {
   "cell_type": "code",
   "execution_count": null,
   "id": "fb4bddc0",
   "metadata": {},
   "outputs": [],
   "source": [
    "obs = robot.get_observation()\n",
    "print(\"Observation:\", obs['observation.state'])"
   ]
  },
  {
   "cell_type": "code",
   "execution_count": null,
   "id": "4608eb8d",
   "metadata": {},
   "outputs": [],
   "source": [
    "obs = robot.get_observation()\n",
    "\n",
    "front_image = obs['observation.images.front']\n",
    "wrist_image = obs['observation.images.wrist']\n",
    "print(obs['observation.images.front'].shape)"
   ]
  },
  {
   "cell_type": "code",
   "execution_count": null,
   "id": "55169989",
   "metadata": {},
   "outputs": [],
   "source": [
    "# front image is an array of shape (480, 640, 3)\n",
    "# Save the image to a file\n",
    "import cv2\n",
    "cv2.imwrite('front_image.png', front_image)   \n",
    "cv2.imwrite('wrist_image.png', wrist_image)  "
   ]
  },
  {
   "cell_type": "code",
   "execution_count": null,
   "id": "ebf35290",
   "metadata": {},
   "outputs": [],
   "source": [
    "from ultralytics import YOLO\n",
    "import cv2\n",
    "\n",
    "# Load YOLOv8 pretrained model (YOLOv8n is the smallest version)\n",
    "model = YOLO(\"yolov8n.pt\")  # or \"yolov8s.pt\" for more accuracy\n",
    "\n",
    "# Load the image from observation\n",
    "obs = robot.get_observation()\n",
    "front_image = obs['observation.images.front']\n",
    "\n",
    "# Save or convert it to match input format\n",
    "image_bgr = front_image[:, :, ::-1]  # Convert RGB (obs) to BGR (OpenCV)\n",
    "\n",
    "# Run detection\n",
    "results = model.predict(image_bgr, conf=0.3)  # You can adjust confidence threshold\n",
    "\n",
    "# Parse results\n",
    "fork_detected = False\n",
    "fork_position = None\n",
    "output_image = image_bgr.copy()\n",
    "\n",
    "for r in results:\n",
    "    for box in r.boxes:\n",
    "        cls_id = int(box.cls[0].item())\n",
    "        class_name = model.names[cls_id]\n",
    "\n",
    "        if class_name.lower() == \"fork\":\n",
    "            fork_detected = True\n",
    "            x1, y1, x2, y2 = map(int, box.xyxy[0])\n",
    "            fork_position = ((x1 + x2) // 2, (y1 + y2) // 2)\n",
    "\n",
    "            # Draw bounding box\n",
    "            cv2.rectangle(output_image, (x1, y1), (x2, y2), (0, 255, 0), 2)\n",
    "            cv2.putText(output_image, \"Fork\", (x1, y1 - 10),\n",
    "                        cv2.FONT_HERSHEY_SIMPLEX, 0.8, (0, 255, 0), 2)\n",
    "\n",
    "# Save result\n",
    "cv2.imwrite(\"fork_detection_result.png\", output_image)\n",
    "\n",
    "print(f\"Fork detected: {fork_detected}\")\n",
    "if fork_detected:\n",
    "    print(f\"Fork center position (in image): {fork_position}\")\n"
   ]
  },
  {
   "cell_type": "code",
   "execution_count": null,
   "id": "6b131a9f",
   "metadata": {},
   "outputs": [],
   "source": [
    "from ultralytics import YOLO\n",
    "# Load YOLOv8 model\n",
    "# model = YOLO('yolov8n.pt')  # or yolov8s.pt for better accuracy\n",
    "model = YOLO('yolov8s.pt') "
   ]
  },
  {
   "cell_type": "code",
   "execution_count": null,
   "id": "0094e6f5",
   "metadata": {},
   "outputs": [],
   "source": [
    "SEARCH_ARM_ACTION = {'arm_shoulder_pan.pos': -5.0, 'arm_shoulder_lift.pos': -98.92428630533719, 'arm_elbow_flex.pos': 99.27895448400182, 'arm_wrist_flex.pos': 19.973137973137966, 'arm_wrist_roll.pos': -0.31746031746031633, 'arm_gripper.pos': 0.867244829886591}\n",
    "SLOW_ROTATE_BASE_ACTION = {'x.vel': 0.0, 'y.vel': 0.0, 'theta.vel': -10.0}\n"
   ]
  },
  {
   "cell_type": "code",
   "execution_count": null,
   "id": "aad9f052",
   "metadata": {},
   "outputs": [],
   "source": [
    "\n",
    "robot.send_action(SEARCH_ARM_ACTION | SLOW_ROTATE_BASE_ACTION)\n",
    "\n",
    "# Open video capture from USB camera\n",
    "cap = robot.cameras['front'].videocapture\n",
    "print(f\"Camera is opened from: {cap.isOpened()}\")\n",
    "\n",
    "while cap.isOpened():\n",
    "    ret, frame = cap.read()\n",
    "    if not ret:\n",
    "        print(\"Failed to read from camera. Stopping the robot.\")\n",
    "        robot.stop_base()\n",
    "        break\n",
    "\n",
    "    # Run YOLO detection\n",
    "    results = model.predict(frame, conf=0.3, verbose=False)\n",
    "    print(\"Prediction\")\n",
    "\n",
    "    if any(model.names[box.cls[0].item()] == 'fork' for r in results for box in r.boxes):\n",
    "        print(\"Fork detected, stopping the robot.\")\n",
    "        robot.stop_base()\n",
    "        break\n",
    "\n"
   ]
  },
  {
   "cell_type": "code",
   "execution_count": null,
   "id": "543bf252",
   "metadata": {},
   "outputs": [],
   "source": []
  }
 ],
 "metadata": {
  "kernelspec": {
   "display_name": "lerobot-3J5F7u7c-py3.11",
   "language": "python",
   "name": "python3"
  },
  "language_info": {
   "codemirror_mode": {
    "name": "ipython",
    "version": 3
   },
   "file_extension": ".py",
   "mimetype": "text/x-python",
   "name": "python",
   "nbconvert_exporter": "python",
   "pygments_lexer": "ipython3",
   "version": "3.11.2"
  }
 },
 "nbformat": 4,
 "nbformat_minor": 5
}
