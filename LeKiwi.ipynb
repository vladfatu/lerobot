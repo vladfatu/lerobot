{
 "cells": [
  {
   "cell_type": "markdown",
   "id": "6b5b8954",
   "metadata": {},
   "source": [
    "# Lekiwi"
   ]
  },
  {
   "cell_type": "markdown",
   "id": "31e31722",
   "metadata": {},
   "source": [
    "## Calibration"
   ]
  },
  {
   "cell_type": "code",
   "execution_count": null,
   "id": "51eceb7e",
   "metadata": {},
   "outputs": [
    {
     "ename": "IndentationError",
     "evalue": "unexpected indent (1927073276.py, line 2)",
     "output_type": "error",
     "traceback": [
      "  \u001b[36mCell\u001b[39m\u001b[36m \u001b[39m\u001b[32mIn[1]\u001b[39m\u001b[32m, line 2\u001b[39m\n\u001b[31m    \u001b[39m\u001b[31m--teleop.id=my_awesome_leader_arm\u001b[39m\n    ^\n\u001b[31mIndentationError\u001b[39m\u001b[31m:\u001b[39m unexpected indent\n"
     ]
    }
   ],
   "source": [
    "!poetry run python -m lerobot.calibrate \\\n",
    "    --teleop.type=so100_leader \\\n",
    "    --teleop.port=/dev/tty.usbmodem5A460849101 \\ \n",
    "    --teleop.id=leader_s101"
   ]
  },
  {
   "cell_type": "code",
   "execution_count": null,
   "id": "1863151f",
   "metadata": {},
   "outputs": [],
   "source": []
  }
 ],
 "metadata": {
  "kernelspec": {
   "display_name": "lerobot-SkXaWJBH-py3.12",
   "language": "python",
   "name": "python3"
  },
  "language_info": {
   "codemirror_mode": {
    "name": "ipython",
    "version": 3
   },
   "file_extension": ".py",
   "mimetype": "text/x-python",
   "name": "python",
   "nbconvert_exporter": "python",
   "pygments_lexer": "ipython3",
   "version": "3.12.2"
  }
 },
 "nbformat": 4,
 "nbformat_minor": 5
}
